{
 "cells": [
  {
   "cell_type": "code",
   "execution_count": null,
   "id": "d2de3e93-24d1-4857-b4da-edba17a31565",
   "metadata": {},
   "outputs": [],
   "source": []
  }
 ],
 "metadata": {
  "kernelspec": {
   "display_name": "",
   "name": ""
  },
  "language_info": {
   "name": ""
  }
 },
 "nbformat": 4,
 "nbformat_minor": 5
}
